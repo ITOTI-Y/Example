{
 "cells": [
  {
   "cell_type": "code",
   "execution_count": null,
   "metadata": {},
   "outputs": [
    {
     "ename": "",
     "evalue": "",
     "output_type": "error",
     "traceback": [
      "\u001b[1;31m运行具有“f:\\Directory\\Python\\Git\\Example\\.conda\\python.exe”的单元格需要ipykernel包。\n",
      "\u001b[1;31mRun the following command to install 'ipykernel' into the Python environment. \n",
      "\u001b[1;31mCommand: 'conda install -p f:\\Directory\\Python\\Git\\Example\\.conda ipykernel --update-deps --force-reinstall'"
     ]
    }
   ],
   "source": [
    "import pandas as pd\n",
    "import re\n",
    "import numpy as np\n",
    "import selenium\n",
    "from time import sleep\n",
    "from selenium import webdriver\n",
    "from selenium.webdriver.common.by import By\n",
    "from selenium.webdriver.common.keys import Keys"
   ]
  },
  {
   "cell_type": "code",
   "execution_count": 24,
   "metadata": {},
   "outputs": [],
   "source": [
    "# 检查下一页是否存在\n",
    "def check(url:str):\n",
    "    current_url = browser.current_url\n",
    "    current_num = int(re.search(r'_\\d+',current_url).group().strip('_'))\n",
    "    next_num = int(re.search(r'_\\d+',url).group().strip('_'))\n",
    "    if current_num < next_num:\n",
    "        return True\n",
    "    else:\n",
    "        return False\n",
    "\n",
    "# 获取下一页\n",
    "def next_page():\n",
    "    bottom = browser.find_elements(By.XPATH,'//div[@class=\"page\"]/span/a')\n",
    "    url = bottom[-1].get_attribute('href')\n",
    "    if check(url):\n",
    "        bottom[-1].click()\n",
    "    else:\n",
    "        raise Exception('No more pages')\n",
    "\n",
    "# 获取数据\n",
    "def get_data(output:list,num = 0)->list:\n",
    "    elements = browser.find_elements(By.XPATH,'//ul[@class=\"LifeList clearfix\"]/li')\n",
    "    temp = []\n",
    "    for i in elements:\n",
    "        temp.append(i.text.split('\\n'))\n",
    "    if '' in temp:\n",
    "        num += 1\n",
    "        get_data(output,num)\n",
    "    return output + temp\n",
    "\n",
    "# 清洗数据\n",
    "def get_area(x:str)->str:\n",
    "    res = re.findall(r'(菜鸟驿站\\()(\\S+)(\\))',x)\n",
    "    res = res[0][1]\n",
    "    return res\n",
    "\n",
    "# list转化为pd.DataFrame\n",
    "def transform_pd(data:list)->pd.DataFrame:\n",
    "    df = pd.DataFrame(data,columns=['名称','区域','地址'])\n",
    "    df['地址'].replace(r'地址：',r'',regex=True,inplace=True)\n",
    "    df['名称'] = df['名称'].apply(lambda x: re.findall(r'(菜鸟驿站\\()(\\S+)(\\))',x)[0][1])\n",
    "    return df"
   ]
  },
  {
   "cell_type": "code",
   "execution_count": 25,
   "metadata": {},
   "outputs": [],
   "source": [
    "browser = webdriver.Edge()\n",
    "browser.implicitly_wait(10) # 隐式等待10s\n",
    "browser.get('http://www.iecity.com/shanghai/brand/75655_1.html')\n",
    "result = []\n",
    "while True:\n",
    "    try:\n",
    "        result = get_data(result)\n",
    "        next_page()\n",
    "    except:\n",
    "        break\n",
    "df = transform_pd(result)"
   ]
  },
  {
   "cell_type": "code",
   "execution_count": 21,
   "metadata": {},
   "outputs": [],
   "source": [
    "# 请求图像链接并使用二进制写入\n",
    "import requests\n",
    "response = requests.get('https://avatars.githubusercontent.com/u/35416777?s=40&v=4')\n",
    "with open(f'image.jpg', 'wb') as f:\n",
    "    f.write(response.content)"
   ]
  },
  {
   "cell_type": "code",
   "execution_count": 8,
   "metadata": {},
   "outputs": [],
   "source": [
    "class spider():\n",
    "\n",
    "    def __init__(self,url:str):\n",
    "        self.browser = webdriver.Edge()\n",
    "        self.browser.get(url)\n",
    "\n",
    "    def check(self,url:str):\n",
    "        browser = self.browser\n",
    "        current_url = browser.current_url\n",
    "        current_num = int(re.search(r'_\\d+',current_url).group().strip('_'))\n",
    "        next_num = int(re.search(r'_\\d+',url).group().strip('_'))\n",
    "        if current_num < next_num:\n",
    "            return True\n",
    "        else:\n",
    "            return False\n",
    "\n",
    "    def next_page(self):\n",
    "        browser = self.browser\n",
    "        bottom = browser.find_elements(By.XPATH,'//div[@class=\"page\"]/span/a')\n",
    "        url = bottom[-1].get_attribute('href')\n",
    "        if self.check(url):\n",
    "            bottom[-1].click()\n",
    "        else:\n",
    "            raise Exception('No more pages')\n",
    "\n",
    "    def get_data(self,output:list,num = 0)->list:\n",
    "        browser = self.browser\n",
    "        elements = browser.find_elements(By.XPATH,'//ul[@class=\"LifeList clearfix\"]/li')\n",
    "        temp = []\n",
    "        for i in elements:\n",
    "            temp.append(i.text.split('\\n'))\n",
    "        if '' in temp:\n",
    "            num += 1\n",
    "            get_data(output,num)\n",
    "        return output + temp\n",
    "\n",
    "    def get_area(x:str)->str:\n",
    "        res = re.findall(r'(菜鸟驿站\\()(\\S+)(\\))',x)\n",
    "        res = res[0][1]\n",
    "        return res\n",
    "\n",
    "    def transform_pd(data:list)->pd.DataFrame:\n",
    "        df = pd.DataFrame(data,columns=['名称','区域','地址'])\n",
    "        df['地址'].replace(r'地址：',r'',regex=True,inplace=True)\n",
    "        df['名称'] = df['名称'].apply(lambda x: re.findall(r'(菜鸟驿站\\()(\\S+)(\\))',x)[0][1])\n",
    "        return df\n",
    "    \n",
    "    def close(self):\n",
    "        self.browser.close()\n",
    "\n",
    "    def get_current_url(self):\n",
    "        return self.browser.current_url"
   ]
  },
  {
   "cell_type": "code",
   "execution_count": 16,
   "metadata": {},
   "outputs": [],
   "source": [
    "browser = spider('http://www.iecity.com/shanghai/brand/75655_1.html')\n",
    "result = []\n",
    "while True:\n",
    "    try:\n",
    "        result = browser.get_data(result)\n",
    "        browser.next_page()\n",
    "    except:\n",
    "        break"
   ]
  }
 ],
 "metadata": {
  "kernelspec": {
   "display_name": "Python 3",
   "language": "python",
   "name": "python3"
  },
  "language_info": {
   "codemirror_mode": {
    "name": "ipython",
    "version": 3
   },
   "file_extension": ".py",
   "mimetype": "text/x-python",
   "name": "python",
   "nbconvert_exporter": "python",
   "pygments_lexer": "ipython3",
   "version": "3.10.11"
  },
  "orig_nbformat": 4
 },
 "nbformat": 4,
 "nbformat_minor": 2
}
