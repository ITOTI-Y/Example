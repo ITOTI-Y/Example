{
 "cells": [
  {
   "cell_type": "code",
   "execution_count": 1,
   "metadata": {},
   "outputs": [],
   "source": [
    "import pandas as pd\n",
    "import selenium\n",
    "from selenium import webdriver\n",
    "from selenium.webdriver.common.by import By"
   ]
  },
  {
   "cell_type": "code",
   "execution_count": 5,
   "metadata": {},
   "outputs": [],
   "source": [
    "browser = webdriver.Edge()"
   ]
  },
  {
   "cell_type": "code",
   "execution_count": 136,
   "metadata": {},
   "outputs": [
    {
     "name": "stdout",
     "output_type": "stream",
     "text": [
      "4\n"
     ]
    }
   ],
   "source": [
    "# 名称的获取和数据处理\n",
    "browser.get('http://saup.szu.edu.cn/sz/qzjs1/qzjs1.htm')\n",
    "name = browser.find_elements(By.XPATH,'//div[@class=\"con_bj\"]//a/p[@class=\"xjys-sz-bt\"]')\n",
    "position = browser.find_elements(By.XPATH,'//div[@class=\"con_bj\"]//a/p[@class=\"xjys-sz-zc\"]')\n",
    "major = browser.find_elements(By.XPATH,'//div[@class=\"con_bj\"]//a/p[@class=\"xjys-sz-yjfx\"]')\n",
    "result = []\n",
    "for i in range(len(name)):\n",
    "    result.append([name[i].text,position[i].text,major[i].text])\n",
    "pd_result = pd.DataFrame(result)\n",
    "res = pd_result[pd_result.iloc[:,0] != \"\"]\n",
    "res.columns = ['name','position','major']\n",
    "res.to_csv('result.csv',encoding='utf-8')\n",
    "\n",
    "index = browser.find_elements(By.XPATH,'//ul[@id=\"nav1\"]/li')\n",
    "num = 0\n",
    "for i in index:\n",
    "    title = i.text\n",
    "    if title == '教学':\n",
    "        print(num)\n",
    "        break \n",
    "    num = num + 1\n",
    "\n",
    "url = index[num].find_elements(By.XPATH,'./ul[@class=\"sub\"]/li/a')[0].get_attribute('href')\n",
    "browser.get(url)"
   ]
  }
 ],
 "metadata": {
  "kernelspec": {
   "display_name": "Python 3",
   "language": "python",
   "name": "python3"
  },
  "language_info": {
   "codemirror_mode": {
    "name": "ipython",
    "version": 3
   },
   "file_extension": ".py",
   "mimetype": "text/x-python",
   "name": "python",
   "nbconvert_exporter": "python",
   "pygments_lexer": "ipython3",
   "version": "3.10.11"
  },
  "orig_nbformat": 4
 },
 "nbformat": 4,
 "nbformat_minor": 2
}
