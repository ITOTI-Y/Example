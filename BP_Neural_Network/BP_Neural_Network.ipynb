{
 "cells": [
  {
   "cell_type": "code",
   "execution_count": null,
   "metadata": {},
   "outputs": [],
   "source": [
    "%load_ext autoreload\n",
    "%autoreload 2\n",
    "\n",
    "import numpy as np\n",
    "import matplotlib.pyplot as plt\n",
    "import seaborn as sns\n",
    "import pandas as pd\n",
    "from torchvision import datasets\n",
    "from sklearn.metrics import confusion_matrix\n",
    "from tqdm import tqdm\n",
    "from utils.BP_neural_utils import bp_neural as bp\n",
    "\n",
    "def save_parameters(file_name='parameters.npz', **args):\n",
    "    _parameters = {}\n",
    "    for key,value in args.items():\n",
    "        _parameters[key] = value\n",
    "    np.savez(file_name,**_parameters)\n",
    "    print('Save file:',file_name)"
   ]
  },
  {
   "cell_type": "code",
   "execution_count": null,
   "metadata": {},
   "outputs": [],
   "source": [
    "train_dataset = datasets.MNIST(root='./data', train=True, download=True)\n",
    "test_dataset = datasets.MNIST(root='./data', train=False, download=True)\n",
    "\n",
    "train_imgs = train_dataset.data.numpy()\n",
    "train_labels = train_dataset.targets.numpy()\n",
    "test_imgs = test_dataset.data.numpy()\n",
    "test_labels = test_dataset.targets.numpy()\n",
    "\n",
    "batch = 5000\n",
    "train_imgs = train_imgs[:batch]\n",
    "train_labels = train_labels[:batch]"
   ]
  },
  {
   "cell_type": "code",
   "execution_count": null,
   "metadata": {},
   "outputs": [],
   "source": [
    "a = bp(train_imgs,train_labels,n_hidden=100)\n",
    "a.normalize_images(inplace=True)\n",
    "a.one_hot(inplace=True)\n",
    "a.init_params()\n",
    "a.node_info()\n",
    "error = []"
   ]
  },
  {
   "cell_type": "code",
   "execution_count": null,
   "metadata": {},
   "outputs": [],
   "source": [
    "for i in tqdm(range(500)):\n",
    "    a.front_prop()\n",
    "    a.back_prop()\n",
    "    a.update_params(lr=0.4)\n",
    "    error.append(1-a.accuracy())\n",
    "print(f'Train_error: {1-a.accuracy()}')\n",
    "print(f'Test_error: {1-(a.predict(test_imgs.reshape(test_imgs.shape[0],-1).T) == test_labels).mean()}')\n",
    "save_parameters('parameters.npz',w1=a.w1,w2=a.w2,b1=a.b1,b2=a.b2)\n",
    "a.plot()"
   ]
  },
  {
   "cell_type": "code",
   "execution_count": null,
   "metadata": {},
   "outputs": [],
   "source": [
    "plt.title(f'Current Error Rate:{1-a.accuracy()}')\n",
    "plt.plot(error)"
   ]
  },
  {
   "cell_type": "code",
   "execution_count": null,
   "metadata": {},
   "outputs": [],
   "source": [
    "index = np.random.randint(0,9999)\n",
    "num = a.predict(test_imgs[index].reshape(1,-1).T)\n",
    "plt.title(f'True:{test_labels[index]},Predicted:{num[0]}')\n",
    "plt.imshow(test_imgs[index],cmap='gray')\n",
    "plt.colorbar()\n",
    "plt.show()"
   ]
  },
  {
   "cell_type": "code",
   "execution_count": null,
   "metadata": {},
   "outputs": [],
   "source": [
    "parameters = np.load('parameters.npz')\n",
    "a.w1 = parameters['w1']\n",
    "a.b1 = parameters['b1']\n",
    "a.w2 = parameters['w2']\n",
    "a.b2 = parameters['b2']"
   ]
  },
  {
   "cell_type": "code",
   "execution_count": null,
   "metadata": {},
   "outputs": [],
   "source": [
    "# opencv 手绘预测\n",
    "import cv2\n",
    "\n",
    "def draw(event,x,y):\n",
    "    global ix,iy,drawing\n",
    "    if event == cv2.EVENT_LBUTTONDOWN:\n",
    "        drawing = True\n",
    "        ix,iy = x,y\n",
    "    elif event ==cv2.EVENT_MOUSEMOVE:\n",
    "        if drawing:\n",
    "            cv2.circle(m_img,(x,y),25,(255,255,255),-1)\n",
    "    elif event == cv2.EVENT_LBUTTONUP:\n",
    "        drawing = False\n",
    "    elif event == cv2.EVENT_RBUTTONDOWN:\n",
    "        m_img[:,:] = 0\n",
    "\n",
    "m_img = np.zeros((512,512,3),dtype=np.uint8)\n",
    "cv2.namedWindow('image')\n",
    "cv2.setMouseCallback('image',draw)\n",
    "drawing = False\n",
    "\n",
    "while True:\n",
    "    gm_img = cv2.cvtColor(m_img,cv2.COLOR_BGR2GRAY)\n",
    "    cv2.imshow('image',gm_img)\n",
    "    res = cv2.resize(gm_img,(28,28),interpolation=cv2.INTER_AREA)\n",
    "    # cv2.imshow('res',res)\n",
    "    res = res.reshape(1,28*28)\n",
    "    cv2.setWindowTitle('image','predicted num:' + str(a.predict(res.T)[0]))\n",
    "    if cv2.waitKey(1) & 0xFF == 27:\n",
    "        break\n",
    "\n",
    "cv2.destroyAllWindows()"
   ]
  },
  {
   "cell_type": "code",
   "execution_count": null,
   "metadata": {},
   "outputs": [],
   "source": [
    "cv2.destroyAllWindows()"
   ]
  }
 ],
 "metadata": {
  "kernelspec": {
   "display_name": "Python 3",
   "language": "python",
   "name": "python3"
  },
  "language_info": {
   "codemirror_mode": {
    "name": "ipython",
    "version": 3
   },
   "file_extension": ".py",
   "mimetype": "text/x-python",
   "name": "python",
   "nbconvert_exporter": "python",
   "pygments_lexer": "ipython3",
   "version": "3.10.12"
  },
  "orig_nbformat": 4
 },
 "nbformat": 4,
 "nbformat_minor": 2
}
