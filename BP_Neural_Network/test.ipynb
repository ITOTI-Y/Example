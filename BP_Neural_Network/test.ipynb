{
 "cells": [
  {
   "cell_type": "code",
   "execution_count": 24,
   "metadata": {},
   "outputs": [],
   "source": [
    "import numpy as np\n",
    "import matplotlib.pyplot as plt\n",
    "from torchvision import datasets\n",
    "from tqdm import tqdm"
   ]
  },
  {
   "cell_type": "code",
   "execution_count": 25,
   "metadata": {},
   "outputs": [],
   "source": [
    "train_dataset = datasets.MNIST(root = r'./data',train = True, download = True)\n",
    "test_dataset = datasets.MNIST(root = r'./data',train = False, download=True)\n",
    "\n",
    "train_imgs = train_dataset.data.numpy()\n",
    "train_labels = train_dataset.targets.numpy()\n",
    "test_imgs = test_dataset.data.numpy()\n",
    "test_labels = test_dataset.targets.numpy()"
   ]
  },
  {
   "cell_type": "code",
   "execution_count": 26,
   "metadata": {},
   "outputs": [],
   "source": [
    "# 将图片展开为多组一维数组,并归一化\n",
    "def normalize_images(imgs):\n",
    "    imgs = imgs.reshape(-1,28*28)\n",
    "    return imgs/255\n",
    "\n",
    "# 判断是否为可迭代对象\n",
    "def is_iterable(obj):\n",
    "    try:\n",
    "        iter(obj)\n",
    "        return True\n",
    "    except TypeError:\n",
    "        return False\n",
    "    \n",
    "# 将标签转换为one-hot编码\n",
    "def one_hot_labels(labels):\n",
    "    '''\n",
    "    labels: 标签（一维数组）\n",
    "\n",
    "    numpy 高级索引功能\n",
    "    以train_labels为行索引，以train_labels为列索引，将one_hot中的元素赋值为1\n",
    "    '''\n",
    "    one_hot = np.zeros((labels.size,labels.max()+1))\n",
    "    one_hot[np.arange(labels.size),labels] = 1\n",
    "\n",
    "    return one_hot\n",
    "\n",
    "# 显示图片\n",
    "def show_img(img,num=0):\n",
    "    if is_iterable(img):\n",
    "        plt.imshow(img[num].reshape(28,28),cmap='gray')\n",
    "        plt.colorbar()\n",
    "        plt.show()\n",
    "    else:\n",
    "        plt.imshow(img.reshape(28,28),cmap='gray')\n",
    "        plt.colorbar()\n",
    "        plt.show()\n",
    "\n",
    "def sigmoid(x):\n",
    "    return 1/(1+np.exp(-x))\n",
    "\n",
    "def sigmoid_derivative(x):\n",
    "    return sigmoid(x)*(1-sigmoid(x))\n",
    "\n",
    "def print_shape(*args):\n",
    "    for arg in args:\n",
    "        name = get_arg_name(arg)\n",
    "        print(f'{name}',arg.shape)\n",
    "\n",
    "# 获取变量名\n",
    "def get_arg_name(arg):\n",
    "    for name in globals().keys():\n",
    "        if globals()[name] is arg:\n",
    "            return name"
   ]
  },
  {
   "cell_type": "code",
   "execution_count": 27,
   "metadata": {},
   "outputs": [],
   "source": [
    "def forward_propagation(imgs,w1,b1,w2,b2):\n",
    "    '''\n",
    "    Args:\n",
    "        imgs: 图片数据\n",
    "        w1: 第一层权重\n",
    "        b1: 第一层偏置\n",
    "        w2: 第二层权重\n",
    "        b2: 第二层偏置\n",
    "    Return:\n",
    "        z1: 第一层线性输出\n",
    "        a1: 第一层激活输出\n",
    "        z2: 第二层线性输出\n",
    "        a2: 第二层激活输出\n",
    "    '''\n",
    "    z1 = np.dot(w1,imgs.T)+b1\n",
    "    a1 = sigmoid(z1)\n",
    "    z2 = np.dot(w2,a1) + b2\n",
    "    a2 = sigmoid(z2)\n",
    "    print_shape(z1,a1,z2,a2)\n",
    "    return z1,a1,z2,a2\n",
    "\n",
    "def backward_propagation(imgs,labels,z1,a1,w2,a2,):\n",
    "    size = imgs.shape[0]\n",
    "    dz2 = a2 - one_hot_labels(labels[:size]).T\n",
    "    dw2 = np.dot(dz2,a1.T)\n",
    "    db2 = dz2.copy()\n",
    "    da1 = np.dot(dz2.T,w2).T\n",
    "    dz1 = da1*sigmoid_derivative(z1)\n",
    "    dw1 = np.dot(dz1,imgs)\n",
    "    db1 = dz1.copy()\n",
    "    return dw1,db1,dw2,db2\n",
    "\n",
    "def update_parameters(w1,b1,w2,b2,dw1,db1,dw2,db2,lr=0.01):\n",
    "    learning_rate = lr\n",
    "    w1 = w1 - learning_rate*dw1\n",
    "    b1 = b1 - learning_rate*db1\n",
    "    w2 = w2 - learning_rate*dw2\n",
    "    b2 = b2 - learning_rate*db2\n",
    "    return w1,b1,w2,b2"
   ]
  },
  {
   "cell_type": "code",
   "execution_count": 28,
   "metadata": {},
   "outputs": [],
   "source": [
    "train_imgs = normalize_images(train_imgs)\n",
    "test_imgs = normalize_images(test_imgs)"
   ]
  },
  {
   "cell_type": "code",
   "execution_count": 29,
   "metadata": {},
   "outputs": [],
   "source": [
    "imgs = train_imgs[:1000]\n",
    "labels = train_labels[:1000]"
   ]
  },
  {
   "cell_type": "code",
   "execution_count": 30,
   "metadata": {},
   "outputs": [],
   "source": [
    "n_hidden = 100\n",
    "n_input = imgs.shape[1]\n",
    "n_output = labels.max()+1\n",
    "\n",
    "w1 = np.random.randn(n_hidden,n_input)\n",
    "b1 = np.zeros((n_hidden,1))\n",
    "w2 = np.random.randn(n_output,n_hidden)\n",
    "b2 = np.zeros((n_output,1))"
   ]
  },
  {
   "cell_type": "code",
   "execution_count": 32,
   "metadata": {},
   "outputs": [
    {
     "name": "stdout",
     "output_type": "stream",
     "text": [
      "None (100, 1000)\n",
      "None (100, 1000)\n",
      "None (10, 1000)\n",
      "None (10, 1000)\n"
     ]
    }
   ],
   "source": [
    "z1,a1,z2,a2 = forward_propagation(imgs,w1,b1,w2,b2)"
   ]
  },
  {
   "cell_type": "code",
   "execution_count": null,
   "metadata": {},
   "outputs": [],
   "source": [
    "img = train_imgs[0].reshape(-1,784)"
   ]
  },
  {
   "cell_type": "code",
   "execution_count": null,
   "metadata": {},
   "outputs": [],
   "source": [
    "show_img(train_imgs,35)"
   ]
  }
 ],
 "metadata": {
  "kernelspec": {
   "display_name": "Python 3",
   "language": "python",
   "name": "python3"
  },
  "language_info": {
   "codemirror_mode": {
    "name": "ipython",
    "version": 3
   },
   "file_extension": ".py",
   "mimetype": "text/x-python",
   "name": "python",
   "nbconvert_exporter": "python",
   "pygments_lexer": "ipython3",
   "version": "3.10.11"
  },
  "orig_nbformat": 4
 },
 "nbformat": 4,
 "nbformat_minor": 2
}
