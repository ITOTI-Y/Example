{
 "cells": [
  {
   "cell_type": "code",
   "execution_count": 123,
   "metadata": {},
   "outputs": [],
   "source": [
    "import numpy as np\n",
    "import matplotlib.pyplot as plt\n",
    "import pandas as pd"
   ]
  },
  {
   "cell_type": "code",
   "execution_count": 124,
   "metadata": {},
   "outputs": [
    {
     "data": {
      "image/png": "[encoded data removed]",
      "text/plain": [
       "<Figure size 640x480 with 1 Axes>"
      ]
     },
     "metadata": {},
     "output_type": "display_data"
    }
   ],
   "source": [
    "# 数据准备\n",
    "NUM = 20\n",
    "# np.random.seed(1)\n",
    "x1 = np.random.randn(NUM,2)+[1,1]\n",
    "x2 = np.random.randn(NUM,2)-[1,1]\n",
    "X = np.concatenate((x1,x2),axis=0)\n",
    "y = np.concatenate((np.ones(NUM),-np.ones(NUM)),axis=0)\n",
    "plt.scatter(X[:,0],X[:,1],c=y,cmap=plt.cm.Paired)\n",
    "ax = plt.gca()\n",
    "\n",
    "C = 1 # 惩罚系数\n",
    "tol = 0.001 # 容忍度\n",
    "max_iter = 1000 # 最大迭代次数\n",
    "m,n = X.shape # m个样本，n个特征\n",
    "alpha = np.zeros(m) # 初始化拉格朗日乘子\n",
    "b = 0 # 初始化截距\n",
    "iters = 0 # 初始化迭代数\n"
   ]
  },
  {
   "cell_type": "code",
   "execution_count": 125,
   "metadata": {},
   "outputs": [],
   "source": [
    "def kernel(x,y,type='linear'):\n",
    "    if type == 'linear':\n",
    "        result = np.dot(x,y)\n",
    "    return result\n",
    "\n",
    "def f_i(num,alpha,b):\n",
    "    result = np.dot(alpha*y,kernel(X,X[num]))+b\n",
    "    return result\n",
    "\n",
    "def Error(num,alpha,b):\n",
    "    result = f_i(num,alpha,b)-y[num]\n",
    "    return result\n",
    "\n",
    "def KKT_error_distance(num,alpha,b):\n",
    "    if alpha[num] == 0:\n",
    "        delta = y[num]*f_i(num,alpha,b) - 1\n",
    "        if delta < 0:\n",
    "            return abs(delta)\n",
    "        else:\n",
    "            return 0\n",
    "    elif alpha[num] > 0 and alpha[num] < C:\n",
    "        delta = y[num]*f_i(num,alpha,b) - 1\n",
    "        if delta == 0:\n",
    "            return 0\n",
    "        else:\n",
    "            return abs(delta)\n",
    "    elif alpha[num] == C:\n",
    "        delta = y[num]*f_i(num,alpha,b) - 1\n",
    "        if delta > 0:\n",
    "            return abs(delta)\n",
    "        else:\n",
    "            return 0\n",
    "        \n",
    "def KKT_error(X,alpha,b,type='max'):\n",
    "    result = []\n",
    "    for i in range(np.shape(X)[0]):\n",
    "        result.append([KKT_error_distance(i,alpha,b),i])\n",
    "    result = pd.DataFrame(result)\n",
    "    if type == 'max':\n",
    "        result = result.sort_values(by=[0,1])\n",
    "        result = [result.iloc[-1].name,result.iloc[-1].values[0]]\n",
    "        return result\n",
    "    if type == 'list':\n",
    "        return result\n",
    "\n",
    "def E_choice(num,alpha,b,type='choice'):\n",
    "    result = []\n",
    "    for i in range(np.shape(X)[0]):\n",
    "        result.append([Error(i,alpha,b),i])\n",
    "    result = pd.DataFrame(result).sort_values(by=[0,1])\n",
    "    E1 = Error(num,alpha,b)\n",
    "    if type == 'choice':\n",
    "        if E1 > 0:\n",
    "            result = [result.iloc[0].name,result.iloc[0].values[0]]\n",
    "        elif E1 < 0:\n",
    "            result = [result.iloc[-1].name,result.iloc[-1].values[0]]\n",
    "        else:\n",
    "            result = abs(result).sort_values(by=[0,1])\n",
    "            result = [result.iloc[-1].name,result.iloc[-1].values[0]]\n",
    "        return result\n",
    "    if type == 'list':\n",
    "        return result\n",
    "\n",
    "def choice_i_j(X,alpha,b):\n",
    "    i = KKT_error(X,alpha,b)[0]\n",
    "    j = E_choice(i,alpha,b)[0]\n",
    "    return i,j\n",
    "\n",
    "def eta(i,j):\n",
    "    result = kernel(X[i],X[i]) + kernel(X[j],X[j]) - 2*kernel(X[i],X[j])\n",
    "    return result\n",
    "\n",
    "def cut_off(alpha_old,i,j,Ei_old,Ej_old):\n",
    "    if y[i] != y[j]:\n",
    "        L = max(0,alpha_old[j]-alpha_old[i])\n",
    "        H = min(C,C+alpha_old[j]-alpha_old[i])\n",
    "    else:\n",
    "        L = max(0,alpha_old[j]+alpha_old[i]-C)\n",
    "        H = min(C,alpha_old[j]+alpha_old[i])\n",
    "    alpha_j = alpha_old[j] + y[j]*(Ei_old-Ej_old)/eta(i,j)\n",
    "    alpha_j = min(alpha_j,H)\n",
    "    alpha_j = max(alpha_j,L)\n",
    "    return alpha_j"
   ]
  },
  {
   "cell_type": "code",
   "execution_count": null,
   "metadata": {},
   "outputs": [],
   "source": []
  },
  {
   "cell_type": "code",
   "execution_count": 126,
   "metadata": {},
   "outputs": [
    {
     "data": {
      "text/plain": [
       "39"
      ]
     },
     "execution_count": 126,
     "metadata": {},
     "output_type": "execute_result"
    }
   ],
   "source": [
    "E_choice(0,alpha,b)[0]"
   ]
  },
  {
   "cell_type": "code",
   "execution_count": 127,
   "metadata": {},
   "outputs": [
    {
     "data": {
      "text/plain": [
       "array([], dtype=float64)"
      ]
     },
     "execution_count": 127,
     "metadata": {},
     "output_type": "execute_result"
    }
   ],
   "source": [
    "alpha[(alpha < 1) & (alpha > 0)]"
   ]
  },
  {
   "cell_type": "code",
   "execution_count": 128,
   "metadata": {},
   "outputs": [],
   "source": [
    "i = KKT_error(X,alpha,b)[0]\n",
    "j = E_choice(i,alpha,b)[0]\n",
    "E1 = Error(i,alpha,b)\n",
    "E2 = Error(j,alpha,b)\n",
    "alpha_old = alpha.copy()\n",
    "\n",
    "alpha_j_new = cut_off(alpha_old,i,j,Error(i,alpha,b),Error(j,alpha,b))\n",
    "if abs(alpha_j_new - alpha_old[j]) < 0.0001:\n",
    "    if alpha[(alpha < 1) & (alpha > 0)]:\n",
    "        for k in alpha[(alpha < 1) & (alpha > 0)]:\n",
    "            if k == i:\n",
    "                continue\n",
    "            else:\n",
    "                j = k\n",
    "                "
   ]
  },
  {
   "cell_type": "code",
   "execution_count": 129,
   "metadata": {},
   "outputs": [],
   "source": [
    "def inner_any(alpha_old,i,j):\n",
    "    index = np.asarray([index for index, value in enumerate(alpha)])\n",
    "    choice_index = index[(alpha < 1) & (alpha > 0)]\n",
    "    for k in choice_index:\n",
    "        if len(index) < 1:\n",
    "            break\n",
    "        if k == i:\n",
    "            continue\n",
    "        else:\n",
    "            j = k\n",
    "            result = cut_off(alpha_old,i,j,Error(i,alpha,b),Error(j,alpha,b))\n",
    "            if abs(result - alpha_old[j]) < 0.0001:\n",
    "                continue\n",
    "            else:\n",
    "                return result,j\n",
    "    for k in index:\n",
    "        if k!= i:\n",
    "            j = k\n",
    "            result = cut_off(alpha_old,i,j,Error(i,alpha,b),Error(j,alpha,b))\n",
    "            if abs(result - alpha_old[j]) < 0.0001:\n",
    "                continue\n",
    "            else:\n",
    "                return result,j\n",
    "    return False"
   ]
  },
  {
   "cell_type": "code",
   "execution_count": 130,
   "metadata": {},
   "outputs": [
    {
     "data": {
      "text/plain": [
       "(0.14058034209086268, 0)"
      ]
     },
     "execution_count": 130,
     "metadata": {},
     "output_type": "execute_result"
    }
   ],
   "source": [
    "inner_any(alpha_old,i,j)"
   ]
  },
  {
   "cell_type": "code",
   "execution_count": 131,
   "metadata": {},
   "outputs": [],
   "source": [
    "def alpha_choice(i,alpha,b):\n",
    "    i = KKT_error(X,alpha,b)[0]\n",
    "    j = E_choice(i,alpha,b)[0]\n",
    "    E1 = Error(i,alpha,b)\n",
    "    E2 = Error(j,alpha,b)\n",
    "    pass"
   ]
  },
  {
   "cell_type": "code",
   "execution_count": 134,
   "metadata": {},
   "outputs": [],
   "source": [
    "iters = 0\n",
    "list_ij = []\n",
    "while True:\n",
    "    i,j = choice_i_j(X,alpha,b)\n",
    "\n",
    "    Ei_old = Error(i,alpha,b)\n",
    "    Ej_old = Error(j,alpha,b)\n",
    "    alpha_old = alpha.copy()\n",
    "    alpha_new = alpha.copy()\n",
    "\n",
    "    alpha_j_new = cut_off(alpha_old,i,j,Ei_old,Ej_old)\n",
    "    if abs(alpha_j_new - alpha_old[j]) < 0.0001:\n",
    "        alpha_new[j],j = inner_any(alpha_old,i,j)\n",
    "        \n",
    "    alpha_new[i] = alpha_old[i] + y[i]*y[j]*(alpha_old[j]-alpha_new[j])\n",
    "\n",
    "\n",
    "    b1 = b - Ei_old - y[i]*(alpha_new[i]-alpha_old[i])*kernel(X[i],X[i]) - y[j]*(alpha_new[j]-alpha_old[j])*kernel(X[i],X[j])\n",
    "    b2 = b - Ej_old - y[i]*(alpha_new[i]-alpha_old[i])*kernel(X[i],X[j]) - y[j]*(alpha_new[j]-alpha_old[j])*kernel(X[j],X[j])\n",
    "\n",
    "    if 0 < alpha[i] < C and 0 < alpha[j] < C:\n",
    "        b = b1\n",
    "    else:\n",
    "        b = (b1+b2)/2\n",
    "\n",
    "    alpha = alpha_new.copy()\n",
    "\n",
    "    w = np.dot(alpha*y,X)\n",
    "\n",
    "    E = E_choice(i,alpha,b,'list')\n",
    "    KKT = KKT_error(X,alpha,b,'list')\n",
    "    list_ij.append([i,j])\n",
    "\n",
    "    if KKT.max()[0]< tol:\n",
    "        print('KKT条件满足，迭代结束')\n",
    "        break\n",
    "    if iters > max_iter:\n",
    "        print('迭代次数超过最大迭代次数，迭代结束')\n",
    "        break\n",
    "    iters += 1"
   ]
  },
  {
   "cell_type": "code",
   "execution_count": 122,
   "metadata": {},
   "outputs": [
    {
     "data": {
      "text/plain": [
       "<matplotlib.collections.PathCollection at 0x233eccc6680>"
      ]
     },
     "execution_count": 122,
     "metadata": {},
     "output_type": "execute_result"
    },
    {
     "data": {
      "image/png": "[encoded data removed]",
      "text/plain": [
       "<Figure size 640x480 with 1 Axes>"
      ]
     },
     "metadata": {},
     "output_type": "display_data"
    }
   ],
   "source": [
    "# 绘制数据集和决策边界\n",
    "plt.scatter(X[:, 0], X[:, 1], c=y, cmap=plt.cm.Paired)\n",
    "ax = plt.gca()\n",
    "xlim = ax.get_xlim()\n",
    "ylim = ax.get_ylim()\n",
    "\n",
    "# 生成网格点并预测分类\n",
    "xx = np.linspace(xlim[0], xlim[1], 30)\n",
    "yy = np.linspace(ylim[0], ylim[1], 30)\n",
    "YY, XX = np.meshgrid(yy, xx)\n",
    "xy = np.vstack([XX.ravel(), YY.ravel()]).T\n",
    "Z = np.dot(xy, w.T) + b\n",
    "\n",
    "# 绘制决策边界和支持向量\n",
    "Z = Z.reshape(XX.shape)\n",
    "plt.contour(XX, YY, Z, colors='k', levels=[-1, 0, 1], alpha=0.5,\n",
    "            linestyles=['--', '-', '--'])\n",
    "plt.scatter(X[np.where(np.abs(np.dot(X, w.T) + b - 1) < tol)[0], 0],\n",
    "            X[np.where(np.abs(np.dot(X, w.T) + b - 1) < tol)[0], 1],\n",
    "            marker='o', s=100, edgecolors='k', facecolors='none')\n",
    "plt.scatter(X[np.where(np.abs(np.dot(X, w.T) + b + 1) < tol)[0], 0],\n",
    "            X[np.where(np.abs(np.dot(X, w.T) + b + 1) < tol)[0], 1],\n",
    "            marker='o', s=100, edgecolors='k', facecolors='none')"
   ]
  }
 ],
 "metadata": {
  "kernelspec": {
   "display_name": "Python 3",
   "language": "python",
   "name": "python3"
  },
  "language_info": {
   "codemirror_mode": {
    "name": "ipython",
    "version": 3
   },
   "file_extension": ".py",
   "mimetype": "text/x-python",
   "name": "python",
   "nbconvert_exporter": "python",
   "pygments_lexer": "ipython3",
   "version": "3.10.11"
  },
  "orig_nbformat": 4
 },
 "nbformat": 4,
 "nbformat_minor": 2
}
